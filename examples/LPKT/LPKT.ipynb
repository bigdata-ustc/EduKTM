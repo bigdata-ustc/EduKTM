{
 "cells": [
  {
   "cell_type": "markdown",
   "metadata": {
    "collapsed": true,
    "pycharm": {
     "name": "#%% md\n"
    }
   },
   "source": [
    "# Learning Process-consistent Knowledge Tracing(LPKT)\n",
    "\n",
    "This notebook will show you how to train and use the LPKT.\n",
    "First, we will show how to get the data (here we use assistment-2017 as the dataset).\n",
    "Then we will show how to train a LPKT and perform the parameters persistence.\n",
    "At last, we will show how to load the parameters from the file and evaluate on the test dataset.\n",
    "\n",
    "The script version could be found in [LPKT.py](LPKT.ipynb)"
   ]
  },
  {
   "cell_type": "markdown",
   "source": [
    "\n",
    "## Data Preparation\n",
    "\n",
    "Before we process the data, we need to first acquire the dataset which is shown in [prepare_dataset.ipynb](prepare_dataset.ipynb)"
   ],
   "metadata": {
    "collapsed": false
   }
  },
  {
   "cell_type": "code",
   "execution_count": 1,
   "outputs": [],
   "source": [
    "import numpy as np\n",
    "from load_data import DATA\n",
    "\n",
    "def generate_q_matrix(path, n_skill, n_problem, gamma=0):\n",
    "    with open(path, 'r', encoding='utf-8') as f:\n",
    "        for line in f:\n",
    "            problem2skill = eval(line)\n",
    "    q_matrix = np.zeros((n_problem + 1, n_skill + 1)) + gamma\n",
    "    for p in problem2skill.keys():\n",
    "        q_matrix[p][problem2skill[p]] = 1\n",
    "    return q_matrix\n",
    "\n",
    "batch_size = 32\n",
    "n_at = 1326\n",
    "n_it = 2839\n",
    "n_question = 102\n",
    "n_exercise = 3162\n",
    "seqlen = 500\n",
    "d_k = 128\n",
    "d_a = 50\n",
    "d_e = 128\n",
    "q_gamma = 0.03\n",
    "dropout = 0.2\n",
    "\n",
    "dat = DATA(seqlen=seqlen, separate_char=',')\n",
    "train_data = dat.load_data('../../data/anonymized_full_release_competition_dataset/train.txt')\n",
    "test_data = dat.load_data('../../data/anonymized_full_release_competition_dataset/test.txt')\n",
    "q_matrix = generate_q_matrix(\n",
    "    '../../data/anonymized_full_release_competition_dataset/problem2skill',\n",
    "    n_question, n_exercise,\n",
    "    q_gamma\n",
    ")"
   ],
   "metadata": {
    "collapsed": false,
    "pycharm": {
     "name": "#%%\n"
    }
   }
  },
  {
   "cell_type": "markdown",
   "source": [
    "## Training and Persistence"
   ],
   "metadata": {
    "collapsed": false,
    "pycharm": {
     "name": "#%% md\n"
    }
   }
  },
  {
   "cell_type": "code",
   "execution_count": 2,
   "outputs": [],
   "source": [
    "import logging\n",
    "logging.getLogger().setLevel(logging.INFO)"
   ],
   "metadata": {
    "collapsed": false,
    "pycharm": {
     "name": "#%%\n"
    }
   }
  },
  {
   "cell_type": "code",
   "execution_count": 3,
   "outputs": [
    {
     "name": "stderr",
     "output_type": "stream",
     "text": [
      "Training: 100%|██████████| 61/61 [17:57<00:00, 17.66s/it]\n",
      "Testing:   0%|          | 0/26 [00:00<?, ?it/s]"
     ]
    },
    {
     "name": "stdout",
     "output_type": "stream",
     "text": [
      "[Epoch 0] LogisticLoss: 0.643005\n"
     ]
    },
    {
     "name": "stderr",
     "output_type": "stream",
     "text": [
      "Testing: 100%|██████████| 26/26 [01:26<00:00,  3.33s/it]\n",
      "Training:   0%|          | 0/61 [00:00<?, ?it/s]"
     ]
    },
    {
     "name": "stdout",
     "output_type": "stream",
     "text": [
      "[Epoch 0] auc: 0.680518, accuracy: 0.662649\n"
     ]
    },
    {
     "name": "stderr",
     "output_type": "stream",
     "text": [
      "Training: 100%|██████████| 61/61 [16:59<00:00, 16.72s/it]\n",
      "Testing:   0%|          | 0/26 [00:00<?, ?it/s]"
     ]
    },
    {
     "name": "stdout",
     "output_type": "stream",
     "text": [
      "[Epoch 1] LogisticLoss: 0.596969\n"
     ]
    },
    {
     "name": "stderr",
     "output_type": "stream",
     "text": [
      "Testing: 100%|██████████| 26/26 [01:25<00:00,  3.27s/it]\n",
      "INFO:root:save parameters to lpkt.params\n"
     ]
    },
    {
     "name": "stdout",
     "output_type": "stream",
     "text": [
      "[Epoch 1] auc: 0.717534, accuracy: 0.682302\n"
     ]
    }
   ],
   "source": [
    "from EduKTM import LPKT\n",
    "\n",
    "lpkt = LPKT(n_at, n_it, n_exercise, n_question, d_a, d_e, d_k, q_matrix, batch_size, dropout)\n",
    "lpkt.train(train_data, test_data, epoch=2, lr=0.003)\n",
    "lpkt.save(\"lpkt.params\")"
   ],
   "metadata": {
    "collapsed": false,
    "pycharm": {
     "name": "#%%\n"
    }
   }
  },
  {
   "cell_type": "markdown",
   "source": [
    "## Loading and Testing"
   ],
   "metadata": {
    "collapsed": false,
    "pycharm": {
     "name": "#%% md\n"
    }
   }
  },
  {
   "cell_type": "code",
   "execution_count": 4,
   "outputs": [
    {
     "name": "stderr",
     "output_type": "stream",
     "text": [
      "INFO:root:load parameters from lpkt.params\n",
      "Testing: 100%|██████████| 26/26 [01:18<00:00,  3.04s/it]"
     ]
    },
    {
     "name": "stdout",
     "output_type": "stream",
     "text": [
      "auc: 0.717543, accuracy: 0.682427\n"
     ]
    },
    {
     "name": "stderr",
     "output_type": "stream",
     "text": [
      "\n"
     ]
    }
   ],
   "source": [
    "lpkt.load(\"lpkt.params\")\n",
    "_, auc, accuracy = lpkt.eval(test_data)\n",
    "print(\"auc: %.6f, accuracy: %.6f\" % (auc, accuracy))"
   ],
   "metadata": {
    "collapsed": false,
    "pycharm": {
     "name": "#%%\n"
    }
   }
  }
 ],
 "metadata": {
  "kernelspec": {
   "display_name": "Python 3",
   "language": "python",
   "name": "python3"
  },
  "language_info": {
   "codemirror_mode": {
    "name": "ipython",
    "version": 2
   },
   "file_extension": ".py",
   "mimetype": "text/x-python",
   "name": "python",
   "nbconvert_exporter": "python",
   "pygments_lexer": "ipython2",
   "version": "2.7.6"
  }
 },
 "nbformat": 4,
 "nbformat_minor": 0
}