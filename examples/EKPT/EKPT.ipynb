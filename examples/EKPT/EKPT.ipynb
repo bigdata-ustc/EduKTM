{
 "cells": [
  {
   "cell_type": "markdown",
   "metadata": {
    "collapsed": true,
    "pycharm": {
     "name": "#%% md\n"
    }
   },
   "source": [
    "#  Exercise-correlated Knowledge Proficiency Tracing model (EKPT)\n",
    "\n",
    "This notebook will show you how to train and use the EKPT.\n",
    "First, we will show how to get the data (here we use assistment-2009-2010-skill as the dataset).\n",
    "Then we will show how to train an EKPT, and perform the parameters persistence.\n",
    "At last, we will show how to load the parameters from the file and evaluate on the test dataset.\n",
    "\n",
    "The script version could be found in [EKPT.py](EKPT.ipynb)"
   ]
  },
  {
   "cell_type": "markdown",
   "metadata": {},
   "source": [
    "## Data Preparation\n",
    "\n",
    "Before we process the data, we need to first acquire the dataset which is shown in [prepare_dataset.ipynb](prepare_dataset.ipynb)"
   ]
  },
  {
   "cell_type": "code",
   "execution_count": 1,
   "metadata": {},
   "outputs": [],
   "source": [
    "# Load the data from files\n",
    "import numpy as np\n",
    "import json\n",
    "\n",
    "# Q matrix\n",
    "q_m = np.loadtxt(\"../../data/2009_skill_builder_data_corrected/q_m.csv\", dtype=int, delimiter=\",\")\n",
    "prob_num, know_num = q_m.shape[0], q_m.shape[1]\n",
    "\n",
    "# training data\n",
    "with open(\"../../data/2009_skill_builder_data_corrected/train_data.json\", encoding='utf-8') as file:\n",
    "    train_set = json.load(file)\n",
    "stu_num = max([x['user_id'] for x in train_set[0]]) + 1\n",
    "time_window_num = len(train_set)\n",
    "                    \n",
    "# testing data\n",
    "with open(\"../../data/2009_skill_builder_data_corrected/test_data.json\", encoding='utf-8') as file:\n",
    "    test_set = json.load(file)"
   ]
  },
  {
   "cell_type": "code",
   "execution_count": 2,
   "metadata": {},
   "outputs": [
    {
     "name": "stdout",
     "output_type": "stream",
     "text": [
      "{'user_id': 152, 'item_id': 2515, 'score': 1} {'user_id': 21, 'item_id': 5152, 'score': 1}\n"
     ]
    }
   ],
   "source": [
    "# train_set[0][0] is the first train log in the first Time Window\n",
    "print(train_set[0][0], test_set[0])"
   ]
  },
  {
   "cell_type": "code",
   "execution_count": 3,
   "metadata": {},
   "outputs": [
    {
     "data": {
      "text/plain": [
       "(7, 16266)"
      ]
     },
     "execution_count": 3,
     "metadata": {},
     "output_type": "execute_result"
    }
   ],
   "source": [
    "len(train_set), len(test_set)"
   ]
  },
  {
   "cell_type": "markdown",
   "metadata": {
    "pycharm": {
     "name": "#%% md\n"
    }
   },
   "source": [
    "## Training and Persistence"
   ]
  },
  {
   "cell_type": "code",
   "execution_count": 4,
   "metadata": {
    "pycharm": {
     "name": "#%%\n"
    }
   },
   "outputs": [],
   "source": [
    "import logging\n",
    "logging.getLogger().setLevel(logging.INFO)"
   ]
  },
  {
   "cell_type": "code",
   "execution_count": 5,
   "metadata": {},
   "outputs": [
    {
     "name": "stderr",
     "output_type": "stream",
     "text": [
      "INFO:root:save parameters to ekpt.params\n"
     ]
    }
   ],
   "source": [
    "from EduKTM import EKPT\n",
    "\n",
    "cdm = EKPT(q_m, stu_num, prob_num, know_num, time_window_num=time_window_num)\n",
    "\n",
    "cdm.train(train_set, epoch=2, lr=0.001, lr_b=0.0001, epsilon=1e-3, init_method='mean')\n",
    "cdm.save(\"ekpt.params\")"
   ]
  },
  {
   "cell_type": "markdown",
   "metadata": {
    "pycharm": {
     "name": "#%% md\n"
    }
   },
   "source": [
    "## Loading and Testing"
   ]
  },
  {
   "cell_type": "code",
   "execution_count": 6,
   "metadata": {
    "pycharm": {
     "name": "#%%\n"
    }
   },
   "outputs": [
    {
     "name": "stderr",
     "output_type": "stream",
     "text": [
      "INFO:root:load parameters from ekpt.params\n",
      "evaluating: 100%|█████████████████████████████████████████████████████████████| 16266/16266 [00:00<00:00, 29167.17it/s]"
     ]
    },
    {
     "name": "stdout",
     "output_type": "stream",
     "text": [
      "For EKPT, RMSE: 0.448456, MAE: 0.380642\n"
     ]
    },
    {
     "name": "stderr",
     "output_type": "stream",
     "text": [
      "\n"
     ]
    }
   ],
   "source": [
    "cdm.load(\"ekpt.params\")\n",
    "rmse, mae = cdm.eval(test_set)\n",
    "print(\"For EKPT, RMSE: %.6f, MAE: %.6f\" % (rmse, mae))"
   ]
  },
  {
   "cell_type": "code",
   "execution_count": null,
   "metadata": {},
   "outputs": [],
   "source": []
  }
 ],
 "metadata": {
  "kernelspec": {
   "display_name": "Python 3",
   "language": "python",
   "name": "python3"
  },
  "language_info": {
   "codemirror_mode": {
    "name": "ipython",
    "version": 3
   },
   "file_extension": ".py",
   "mimetype": "text/x-python",
   "name": "python",
   "nbconvert_exporter": "python",
   "pygments_lexer": "ipython3",
   "version": "3.8.8"
  }
 },
 "nbformat": 4,
 "nbformat_minor": 1
}
