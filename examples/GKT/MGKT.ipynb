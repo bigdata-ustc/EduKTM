{
 "cells": [
  {
   "cell_type": "markdown",
   "metadata": {
    "collapsed": true,
    "pycharm": {
     "name": "#%% md\n"
    }
   },
   "source": [
    "# Graph-based knowledge Tracing Plus (GKT)\n",
    "\n",
    "This notebook will show you how to train and use the GKT.\n",
    "First, we will show how to get the data (here we use a0910 as the dataset).\n",
    "Then we will show how to train a GKT and perform the parameters persistence.\n",
    "At last, we will show how to load the parameters from the file and evaluate on the test dataset.\n",
    "\n",
    "The script version could be found in [MGKT.py](MGKT.py)"
   ]
  },
  {
   "cell_type": "markdown",
   "metadata": {},
   "source": [
    "## Data Preparation\n",
    "\n",
    "Before we process the data, we need to first acquire the dataset which is shown in [prepare_dataset.ipynb](prepare_dataset.ipynb)"
   ]
  },
  {
   "cell_type": "code",
   "execution_count": 2,
   "metadata": {
    "pycharm": {
     "name": "#%%\n"
    }
   },
   "outputs": [
    {
     "name": "stderr",
     "output_type": "stream",
     "text": [
      "reading data from ../../data/assistment_2009_2010/train.json: 3025it [00:00, 9941.52it/s] \n",
      "batchify: 100%|██████████| 327/327 [00:00<00:00, 846.95it/s]\n",
      "reading data from ../../data/assistment_2009_2010/test.json: 856it [00:00, 19899.92it/s]\n",
      "C:\\Users\\Fangzhou Yao\\Documents\\EduKTM\\EduKTM\\utils\\torch\\extlib\\sampler.py:327: UserWarning: Some buckets are empty and will be removed. Unused bucket keys=[104, 108, 115, 119, 120, 122, 125, 127, 129, 130, 134, 143, 147, 157, 159, 160, 163, 165, 166, 169, 173, 174, 178, 181, 184, 188, 189, 192, 193, 194, 196]\n",
      "  warnings.warn('Some buckets are empty and will be removed. Unused bucket keys=%s' %\n",
      "batchify: 100%|██████████| 134/134 [00:00<00:00, 1353.23it/s]\n",
      "reading data from ../../data/assistment_2009_2010/test.json: 856it [00:00, 6483.47it/s]\n",
      "batchify: 100%|██████████| 134/134 [00:00<00:00, 1318.28it/s]\n"
     ]
    }
   ],
   "source": [
    "from EduKTM.GKT import etl\n",
    "\n",
    "batch_size = 16\n",
    "train = etl(\"../../data/assistment_2009_2010/train.json\", batch_size=batch_size)\n",
    "valid = etl(\"../../data/assistment_2009_2010/test.json\", batch_size=batch_size)\n",
    "test = etl(\"../../data/assistment_2009_2010/test.json\", batch_size=batch_size)"
   ]
  },
  {
   "cell_type": "markdown",
   "metadata": {
    "pycharm": {
     "name": "#%% md\n"
    }
   },
   "source": [
    "## Training and Persistence"
   ]
  },
  {
   "cell_type": "code",
   "execution_count": 3,
   "metadata": {
    "pycharm": {
     "name": "#%%\n"
    }
   },
   "outputs": [],
   "source": [
    "import logging\n",
    "\n",
    "logging.getLogger().setLevel(logging.INFO)"
   ]
  },
  {
   "cell_type": "code",
   "execution_count": 4,
   "metadata": {
    "pycharm": {
     "name": "#%%\n"
    }
   },
   "outputs": [
    {
     "name": "stderr",
     "output_type": "stream",
     "text": [
      "Epoch 0: 100%|██████████| 327/327 [04:13<00:00,  1.29it/s]\n"
     ]
    },
    {
     "name": "stdout",
     "output_type": "stream",
     "text": [
      "[Epoch 0] SLMoss: 0.308129\n"
     ]
    },
    {
     "name": "stderr",
     "output_type": "stream",
     "text": [
      "evaluating: 100%|██████████| 134/134 [00:44<00:00,  2.99it/s]\n"
     ]
    },
    {
     "name": "stdout",
     "output_type": "stream",
     "text": [
      "[Epoch 0] auc: 0.779489, accuracy: 0.740220\n"
     ]
    },
    {
     "name": "stderr",
     "output_type": "stream",
     "text": [
      "Epoch 1: 100%|██████████| 327/327 [04:12<00:00,  1.30it/s]\n"
     ]
    },
    {
     "name": "stdout",
     "output_type": "stream",
     "text": [
      "[Epoch 1] SLMoss: 0.077746\n"
     ]
    },
    {
     "name": "stderr",
     "output_type": "stream",
     "text": [
      "evaluating: 100%|██████████| 134/134 [00:44<00:00,  2.98it/s]\n",
      "INFO:root:save parameters to mgkt.params\n"
     ]
    },
    {
     "name": "stdout",
     "output_type": "stream",
     "text": [
      "[Epoch 1] auc: 0.772420, accuracy: 0.753002\n"
     ]
    }
   ],
   "source": [
    "from EduKTM import GKT\n",
    "\n",
    "model = GKT(ku_num=124, graph=\"../../data/assistment_2009_2010/transition_graph.json\", hidden_num=5)\n",
    "model.train(train, valid, epoch=2)\n",
    "model.save(\"mgkt.params\")\n"
   ]
  },
  {
   "cell_type": "markdown",
   "metadata": {},
   "source": [
    "## Loading and Testing"
   ]
  },
  {
   "cell_type": "code",
   "execution_count": 5,
   "metadata": {
    "pycharm": {
     "name": "#%%\n"
    }
   },
   "outputs": [
    {
     "name": "stderr",
     "output_type": "stream",
     "text": [
      "INFO:root:load parameters from mgkt.params\n",
      "evaluating: 100%|██████████| 134/134 [00:45<00:00,  2.98it/s]"
     ]
    },
    {
     "name": "stdout",
     "output_type": "stream",
     "text": [
      "auc: 0.772420, accuracy: 0.753002\n"
     ]
    },
    {
     "name": "stderr",
     "output_type": "stream",
     "text": [
      "\n"
     ]
    }
   ],
   "source": [
    "model.load(\"mgkt.params\")\n",
    "auc, accuracy = model.eval(test)\n",
    "print(\"auc: %.6f, accuracy: %.6f\" % (auc, accuracy))"
   ]
  }
 ],
 "metadata": {
  "kernelspec": {
   "display_name": "Python 3 (ipykernel)",
   "language": "python",
   "name": "python3"
  },
  "language_info": {
   "codemirror_mode": {
    "name": "ipython",
    "version": 3
   },
   "file_extension": ".py",
   "mimetype": "text/x-python",
   "name": "python",
   "nbconvert_exporter": "python",
   "pygments_lexer": "ipython3",
   "version": "3.8.12"
  }
 },
 "nbformat": 4,
 "nbformat_minor": 1
}