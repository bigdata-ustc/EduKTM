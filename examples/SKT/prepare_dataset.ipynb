{
 "cells": [
  {
   "cell_type": "code",
   "execution_count": 1,
   "metadata": {},
   "outputs": [
    {
     "name": "stderr",
     "output_type": "stream",
     "text": [
      "downloader, INFO http://base.ustc.edu.cn/data/ktbd/assistment_2009_2010/correct_transition_graph.json is saved as ../../data/assistment_2009_2010/correct_transition_graph.json\n"
     ]
    },
    {
     "name": "stdout",
     "output_type": "stream",
     "text": [
      "Downloading ../../data/assistment_2009_2010/correct_transition_graph.json 100.00%: 34.1KB | 34.1KB"
     ]
    },
    {
     "name": "stderr",
     "output_type": "stream",
     "text": [
      "downloader, INFO http://base.ustc.edu.cn/data/ktbd/assistment_2009_2010/ctrans_sim.json is saved as ../../data/assistment_2009_2010/ctrans_sim.json\n"
     ]
    },
    {
     "name": "stdout",
     "output_type": "stream",
     "text": [
      "\n",
      "Downloading ../../data/assistment_2009_2010/ctrans_sim.json 100.00%: 200KB | 200KB"
     ]
    },
    {
     "name": "stderr",
     "output_type": "stream",
     "text": [
      "downloader, INFO http://base.ustc.edu.cn/data/ktbd/assistment_2009_2010/dense_graph.json is saved as ../../data/assistment_2009_2010/dense_graph.json\n"
     ]
    },
    {
     "name": "stdout",
     "output_type": "stream",
     "text": [
      "\n",
      "Downloading ../../data/assistment_2009_2010/dense_graph.json 100.00%: 361KB | 361KB"
     ]
    },
    {
     "name": "stderr",
     "output_type": "stream",
     "text": [
      "downloader, INFO http://base.ustc.edu.cn/data/ktbd/assistment_2009_2010/test.json is saved as ../../data/assistment_2009_2010/test.json\n"
     ]
    },
    {
     "name": "stdout",
     "output_type": "stream",
     "text": [
      "\n",
      "Downloading ../../data/assistment_2009_2010/test.json 100.00%: 1.02MB | 1.02MB"
     ]
    },
    {
     "name": "stderr",
     "output_type": "stream",
     "text": [
      "downloader, INFO http://base.ustc.edu.cn/data/ktbd/assistment_2009_2010/train.json is saved as ../../data/assistment_2009_2010/train.json\n"
     ]
    },
    {
     "name": "stdout",
     "output_type": "stream",
     "text": [
      "\n",
      "Downloading ../../data/assistment_2009_2010/train.json 100.00%: 3.23MB | 3.23MB"
     ]
    },
    {
     "name": "stderr",
     "output_type": "stream",
     "text": [
      "downloader, INFO http://base.ustc.edu.cn/data/ktbd/assistment_2009_2010/trans_sim.json is saved as ../../data/assistment_2009_2010/trans_sim.json\n"
     ]
    },
    {
     "name": "stdout",
     "output_type": "stream",
     "text": [
      "\n",
      "Downloading ../../data/assistment_2009_2010/trans_sim.json 100.00%: 350KB | 350KB\n"
     ]
    },
    {
     "name": "stderr",
     "output_type": "stream",
     "text": [
      "downloader, INFO http://base.ustc.edu.cn/data/ktbd/assistment_2009_2010/transition_graph.json is saved as ../../data/assistment_2009_2010/transition_graph.json\n"
     ]
    },
    {
     "name": "stdout",
     "output_type": "stream",
     "text": [
      "Downloading ../../data/assistment_2009_2010/transition_graph.json 100.00%: 52.9KB | 52.9KB"
     ]
    },
    {
     "name": "stderr",
     "output_type": "stream",
     "text": [
      "downloader, INFO http://base.ustc.edu.cn/data/ktbd/assistment_2009_2010/valid.json is saved as ../../data/assistment_2009_2010/valid.json\n"
     ]
    },
    {
     "name": "stdout",
     "output_type": "stream",
     "text": [
      "\n",
      "Downloading ../../data/assistment_2009_2010/valid.json 100.00%: 310KB | 310KB\n"
     ]
    },
    {
     "data": {
      "text/plain": [
       "'../../data/assistment_2009_2010'"
      ]
     },
     "execution_count": 1,
     "metadata": {},
     "output_type": "execute_result"
    }
   ],
   "source": [
    "from EduData import get_data\n",
    "\n",
    "get_data(\"ktbd-a0910\", \"../../data\")"
   ]
  }
 ],
 "metadata": {
  "kernelspec": {
   "display_name": "Python 3",
   "language": "python",
   "name": "python3"
  },
  "language_info": {
   "codemirror_mode": {
    "name": "ipython",
    "version": 3
   },
   "file_extension": ".py",
   "mimetype": "text/x-python",
   "name": "python",
   "nbconvert_exporter": "python",
   "pygments_lexer": "ipython3",
   "version": "3.8.10"
  },
  "orig_nbformat": 4
 },
 "nbformat": 4,
 "nbformat_minor": 2
}
