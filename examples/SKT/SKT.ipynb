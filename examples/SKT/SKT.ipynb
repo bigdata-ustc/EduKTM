{
 "cells": [
  {
   "attachments": {},
   "cell_type": "markdown",
   "metadata": {},
   "source": [
    "## Structure-based Knowledge Tracing"
   ]
  },
  {
   "attachments": {},
   "cell_type": "markdown",
   "metadata": {},
   "source": [
    "This notebook will show you how to train and use the SKT. First, we will show how to get the data (here we use a0910 as the dataset). Then we will show how to train a GKT and perform the parameters persistence. At last, we will show how to load the parameters from the file and evaluate on the test dataset.\n",
    "\n",
    "\n",
    "The script version could be found in [SKT.py](https://github.com/bigdata-ustc/EduKTM/blob/main/examples/SKT/SKT.py)"
   ]
  },
  {
   "attachments": {},
   "cell_type": "markdown",
   "metadata": {},
   "source": [
    "## Data Preparation\n",
    "\n",
    "Before we process the data, we need to first acquire the dataset which is shown in [prepare_dataset.ipynb](https://github.com/bigdata-ustc/EduKTM/blob/main/examples/SKT/prepare_dataset.ipynb)"
   ]
  },
  {
   "cell_type": "code",
   "execution_count": 1,
   "metadata": {},
   "outputs": [
    {
     "name": "stderr",
     "output_type": "stream",
     "text": [
      "/data/huangweizhe/.local/lib/python3.8/site-packages/tqdm/auto.py:22: TqdmWarning: IProgress not found. Please update jupyter and ipywidgets. See https://ipywidgets.readthedocs.io/en/stable/user_install.html\n",
      "  from .autonotebook import tqdm as notebook_tqdm\n",
      "reading data from ../../data/assistment_2009_2010/train.json: 3025it [00:01, 2397.38it/s]\n",
      "batchify: 100%|██████████| 327/327 [00:00<00:00, 432.65it/s]\n",
      "reading data from ../../data/assistment_2009_2010/test.json: 856it [00:00, 3526.76it/s]\n",
      "/data/huangweizhe/EduKTM/EduKTM/utils/torch/extlib/sampler.py:327: UserWarning: Some buckets are empty and will be removed. Unused bucket keys=[104, 108, 115, 119, 120, 122, 125, 127, 129, 130, 134, 143, 147, 157, 159, 160, 163, 165, 166, 169, 173, 174, 178, 181, 184, 188, 189, 192, 193, 194, 196]\n",
      "  warnings.warn('Some buckets are empty and will be removed. Unused bucket keys=%s' %\n",
      "batchify: 100%|██████████| 134/134 [00:00<00:00, 618.56it/s]\n",
      "reading data from ../../data/assistment_2009_2010/test.json: 856it [00:00, 2156.08it/s]\n",
      "batchify: 100%|██████████| 134/134 [00:00<00:00, 500.12it/s]\n"
     ]
    }
   ],
   "source": [
    "from EduKTM.GKT import etl\n",
    "\n",
    "batch_size = 16\n",
    "train = etl(\"../../data/assistment_2009_2010/train.json\", batch_size=batch_size)\n",
    "valid = etl(\"../../data/assistment_2009_2010/test.json\", batch_size=batch_size)\n",
    "test = etl(\"../../data/assistment_2009_2010/test.json\", batch_size=batch_size)\n"
   ]
  },
  {
   "attachments": {},
   "cell_type": "markdown",
   "metadata": {},
   "source": [
    "## Training and Persistence"
   ]
  },
  {
   "cell_type": "code",
   "execution_count": 2,
   "metadata": {},
   "outputs": [],
   "source": [
    "import logging\n",
    "\n",
    "logging.getLogger().setLevel(logging.INFO)"
   ]
  },
  {
   "cell_type": "code",
   "execution_count": 3,
   "metadata": {},
   "outputs": [
    {
     "name": "stderr",
     "output_type": "stream",
     "text": [
      "Epoch 0: 100%|██████████| 327/327 [05:52<00:00,  1.08s/it]\n"
     ]
    },
    {
     "name": "stdout",
     "output_type": "stream",
     "text": [
      "[Epoch 0] SLMoss: 0.445898\n"
     ]
    },
    {
     "name": "stderr",
     "output_type": "stream",
     "text": [
      "evaluating: 100%|██████████| 134/134 [01:27<00:00,  1.53it/s]\n"
     ]
    },
    {
     "name": "stdout",
     "output_type": "stream",
     "text": [
      "[Epoch 0] auc: 0.594213, accuracy: 0.631270\n"
     ]
    },
    {
     "name": "stderr",
     "output_type": "stream",
     "text": [
      "Epoch 1: 100%|██████████| 327/327 [06:32<00:00,  1.20s/it]\n"
     ]
    },
    {
     "name": "stdout",
     "output_type": "stream",
     "text": [
      "[Epoch 1] SLMoss: 0.433631\n"
     ]
    },
    {
     "name": "stderr",
     "output_type": "stream",
     "text": [
      "evaluating: 100%|██████████| 134/134 [01:26<00:00,  1.56it/s]\n",
      "INFO:root:save parameters to skt.params\n"
     ]
    },
    {
     "name": "stdout",
     "output_type": "stream",
     "text": [
      "[Epoch 1] auc: 0.624451, accuracy: 0.681644\n"
     ]
    }
   ],
   "source": [
    "from EduKTM import SKT\n",
    "import torch\n",
    "\n",
    "device = torch.device(\"cuda:1\" if torch.cuda.is_available() else \"cpu\")\n",
    "model = SKT(ku_num=124, graph_params=[\n",
    "            ['../../data/assistment_2009_2010/correct_transition_graph.json', True],\n",
    "            ['../../data/assistment_2009_2010/ctrans_sim.json', False]\n",
    "        ], hidden_num=5)\n",
    "model.train(train, valid, epoch=2, device=device)\n",
    "model.save(\"skt.params\")\n"
   ]
  },
  {
   "attachments": {},
   "cell_type": "markdown",
   "metadata": {},
   "source": [
    "## Loading and Testing"
   ]
  },
  {
   "cell_type": "code",
   "execution_count": 4,
   "metadata": {},
   "outputs": [
    {
     "name": "stderr",
     "output_type": "stream",
     "text": [
      "INFO:root:load parameters from skt.params\n",
      "evaluating: 100%|██████████| 134/134 [01:13<00:00,  1.81it/s]"
     ]
    },
    {
     "name": "stdout",
     "output_type": "stream",
     "text": [
      "auc: 0.624451, accuracy: 0.681644\n"
     ]
    },
    {
     "name": "stderr",
     "output_type": "stream",
     "text": [
      "\n"
     ]
    }
   ],
   "source": [
    "model.load(\"skt.params\")\n",
    "auc, accuracy = model.eval(test, device=device)\n",
    "print(\"auc: %.6f, accuracy: %.6f\" % (auc, accuracy))"
   ]
  }
 ],
 "metadata": {
  "kernelspec": {
   "display_name": "Python 3",
   "language": "python",
   "name": "python3"
  },
  "language_info": {
   "codemirror_mode": {
    "name": "ipython",
    "version": 3
   },
   "file_extension": ".py",
   "mimetype": "text/x-python",
   "name": "python",
   "nbconvert_exporter": "python",
   "pygments_lexer": "ipython3",
   "version": "3.8.10"
  },
  "orig_nbformat": 4
 },
 "nbformat": 4,
 "nbformat_minor": 2
}
