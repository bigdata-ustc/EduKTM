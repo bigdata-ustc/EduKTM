{
 "cells": [
  {
   "cell_type": "markdown",
   "metadata": {},
   "source": [
    "# Offline-aware Knowledge Tracing (OKT)\n",
    "\n",
    "This notebook will show you how to train and use the OKT.\n",
    "First, we will show how to get the data (here we use assistment-2017 as the dataset).\n",
    "Then we will show how to train a LPKT and perform the parameters persistence.\n",
    "At last, we will show how to load the parameters from the file and evaluate on the test dataset.\n",
    "\n",
    "The script version could be found in [OKT.py](OKT.ipynb)"
   ]
  },
  {
   "cell_type": "markdown",
   "metadata": {},
   "source": [
    "\n",
    "## Data Preparation\n",
    "\n",
    "Before we process the data, we need to first acquire the dataset which is shown in [prepare_dataset.ipynb](prepare_dataset.ipynb)"
   ]
  },
  {
   "cell_type": "code",
   "execution_count": 1,
   "metadata": {},
   "outputs": [],
   "source": [
    "import numpy as np\n",
    "from load_data import DATA\n",
    "\n",
    "dataset_name = 'assist2017'\n",
    "\n",
    "# dataset detail\n",
    "n_at = 1326\n",
    "n_it = 2873\n",
    "n_exercise = 3162\n",
    "n_question = 102\n",
    "seq_len = 500\n",
    "dataset_path = 'anonymized_full_release_competition_dataset'\n",
    "has_at = True\n",
    "\n",
    "# hyperparameters\n",
    "d_q, d_e = 32, 128\n",
    "d_p, d_a = 128, 128\n",
    "d_at = 50\n",
    "d_h = 128\n",
    "\n",
    "# train detail\n",
    "dropout = 0.3\n",
    "batch_size = 64\n",
    "lr = 3e-3\n",
    "lr_decay_step = 10\n",
    "lr_decay_rate = 0.5\n",
    "epoch = 2\n",
    "\n",
    "data_path = './data/' + dataset_path\n",
    "dat = DATA(seqlen=seq_len, separate_char=',', has_at=has_at)\n",
    "train_data = dat.load_data(data_path + '/train0.txt')\n",
    "valid_data = dat.load_data(data_path + '/valid0.txt')\n",
    "test_data = dat.load_data(data_path + '/test.txt')\n",
    "model_file_path = 'okt-' + dataset_name + '.params'"
   ]
  },
  {
   "cell_type": "markdown",
   "metadata": {},
   "source": [
    "## Training and Persistence"
   ]
  },
  {
   "cell_type": "code",
   "execution_count": 2,
   "metadata": {},
   "outputs": [],
   "source": [
    "import logging\n",
    "logging.getLogger().setLevel(logging.INFO)"
   ]
  },
  {
   "cell_type": "code",
   "execution_count": 3,
   "metadata": {},
   "outputs": [
    {
     "name": "stderr",
     "output_type": "stream",
     "text": [
      "Training: 100%|██████████| 28/28 [07:09<00:00, 15.32s/it]\n",
      "Testing:   0%|          | 0/7 [00:00<?, ?it/s]"
     ]
    },
    {
     "name": "stdout",
     "output_type": "stream",
     "text": [
      "[Epoch 0] LogisticLoss: 0.623074\n"
     ]
    },
    {
     "name": "stderr",
     "output_type": "stream",
     "text": [
      "Testing: 100%|██████████| 7/7 [00:02<00:00,  2.40it/s]\n",
      "INFO:root:save parameters to okt-assist2017.params\n",
      "Training:   0%|          | 0/28 [00:00<?, ?it/s]"
     ]
    },
    {
     "name": "stdout",
     "output_type": "stream",
     "text": [
      "[Epoch 0] r2: 0.127399, auc: 0.705811, accuracy: 0.680212\n"
     ]
    },
    {
     "name": "stderr",
     "output_type": "stream",
     "text": [
      "Training: 100%|██████████| 28/28 [07:21<00:00, 15.78s/it]\n",
      "Testing:   0%|          | 0/7 [00:00<?, ?it/s]"
     ]
    },
    {
     "name": "stdout",
     "output_type": "stream",
     "text": [
      "[Epoch 1] LogisticLoss: 0.575053\n"
     ]
    },
    {
     "name": "stderr",
     "output_type": "stream",
     "text": [
      "Testing: 100%|██████████| 7/7 [00:02<00:00,  2.47it/s]\n",
      "INFO:root:save parameters to okt-assist2017.params\n"
     ]
    },
    {
     "name": "stdout",
     "output_type": "stream",
     "text": [
      "[Epoch 1] r2: 0.181005, auc: 0.748027, accuracy: 0.700344\n"
     ]
    }
   ],
   "source": [
    "from EduKTM import OKT\n",
    "\n",
    "model = OKT(n_at, n_it, n_exercise, n_question, d_e, d_q, d_a, d_at, d_p, d_h,\n",
    "            batch_size=batch_size, dropout=dropout)\n",
    "best_train_auc, best_valid_auc = model.train(train_data, valid_data,\n",
    "                                            epoch=epoch, lr=lr, lr_decay_step=lr_decay_step,\n",
    "                                            lr_decay_rate=lr_decay_rate,\n",
    "                                            filepath=model_file_path)"
   ]
  },
  {
   "cell_type": "markdown",
   "metadata": {},
   "source": [
    "## Loading and Testing"
   ]
  },
  {
   "cell_type": "code",
   "execution_count": 4,
   "metadata": {},
   "outputs": [
    {
     "name": "stderr",
     "output_type": "stream",
     "text": [
      "INFO:root:load parameters from okt-assist2017.params\n",
      "Testing: 100%|██████████| 9/9 [00:03<00:00,  2.56it/s]"
     ]
    },
    {
     "name": "stdout",
     "output_type": "stream",
     "text": [
      "rmse: 0.437290, r2: 0.184441, auc: 0.752023, accuracy: 0.709414\n"
     ]
    },
    {
     "name": "stderr",
     "output_type": "stream",
     "text": [
      "\n"
     ]
    }
   ],
   "source": [
    "model.load(model_file_path)\n",
    "_, test_rmse, test_r2, test_auc, test_accuracy = model.eval(test_data)\n",
    "print(\"rmse: %.6f, r2: %.6f, auc: %.6f, accuracy: %.6f\" % (test_rmse, test_r2, test_auc, test_accuracy))"
   ]
  }
 ],
 "metadata": {
  "kernelspec": {
   "display_name": "Python 3.8.3 ('base')",
   "language": "python",
   "name": "python3"
  },
  "language_info": {
   "codemirror_mode": {
    "name": "ipython",
    "version": 3
   },
   "file_extension": ".py",
   "mimetype": "text/x-python",
   "name": "python",
   "nbconvert_exporter": "python",
   "pygments_lexer": "ipython3",
   "version": "3.8.3"
  },
  "orig_nbformat": 4,
  "vscode": {
   "interpreter": {
    "hash": "40d3a090f54c6569ab1632332b64b2c03c39dcf918b08424e98f38b5ae0af88f"
   }
  }
 },
 "nbformat": 4,
 "nbformat_minor": 2
}
